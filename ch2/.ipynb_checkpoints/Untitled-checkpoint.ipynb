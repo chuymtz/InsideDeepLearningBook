{
 "cells": [
  {
   "cell_type": "code",
   "execution_count": null,
   "id": "769f54b5-4114-4703-ae72-315c39eed89b",
   "metadata": {},
   "outputs": [],
   "source": [
    "import torch\n",
    "import torch.nn as nn\n",
    "import torch.nn.functional as F\n",
    "from idlmam import *\n",
    "import numpy as np\n",
    "import seaborn as sns\n",
    "import numpy as np\n",
    "\n",
    "def train_simple_network(model,\n",
    "                         loss_func,\n",
    "                         training_loader,\n",
    "                         epochs = 20,\n",
    "                         device='cpu'):\n",
    "    optimizer = torch.optim.SGD(model.parameters(), lr = 0.001)\n",
    "    model.to(device)\n",
    "    \n",
    "    for epoch in tqdm(range(epochs), desc='Epoch'):\n",
    "        model = model.train()\n",
    "        running_loss = 0.0\n",
    "        \n",
    "        for inputs, labels in tqdm(training_loader, desc='Batch', leave=False):\n",
    "            inputs = moveTo(inputs, device)\n",
    "            labels = moveTo(labels, device)            \n",
    "            \n",
    "            # clear the gradient\n",
    "            optimizer.zero_grad()\n",
    "            \n",
    "            y_hat = model(inputs)\n",
    "            \n",
    "            loss = loss_function(y_hat, labels)\n",
    "            \n",
    "            # calc the grad \n",
    "            loss.backward()\n",
    "            \n",
    "            optimizer.step()\n",
    "            \n",
    "            running_loss += loss.item()\n",
    "            \n",
    "            class Simple1DRegressionDataset(Dataset):\n",
    "    def __init__(self, X, y):\n",
    "        super(Simple1DRegressionDataset"
   ]
  }
 ],
 "metadata": {
  "kernelspec": {
   "display_name": "default:Python",
   "language": "python",
   "name": "conda-env-default-py"
  },
  "language_info": {
   "codemirror_mode": {
    "name": "ipython",
    "version": 3
   },
   "file_extension": ".py",
   "mimetype": "text/x-python",
   "name": "python",
   "nbconvert_exporter": "python",
   "pygments_lexer": "ipython3",
   "version": "3.9.13"
  }
 },
 "nbformat": 4,
 "nbformat_minor": 5
}
